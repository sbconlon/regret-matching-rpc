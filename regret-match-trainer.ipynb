{
 "cells": [
  {
   "cell_type": "markdown",
   "id": "8a8c50f9",
   "metadata": {},
   "source": [
    "### Regret-Matching Rock-Paper-Scissors"
   ]
  },
  {
   "cell_type": "markdown",
   "id": "d26e40c7",
   "metadata": {},
   "source": [
    "From Section 2.5 of [An Introduction to Counterfactual Regret Minimization](http://modelai.gettysburg.edu/2013/cfr/cfr.pdf) by T. Neller and M. Lanctot."
   ]
  },
  {
   "cell_type": "markdown",
   "id": "a8ea3d64",
   "metadata": {},
   "source": [
    "#### 0 - Imports"
   ]
  },
  {
   "cell_type": "code",
   "execution_count": 1,
   "id": "11f7c6e9",
   "metadata": {},
   "outputs": [],
   "source": [
    "import numpy as np"
   ]
  },
  {
   "cell_type": "markdown",
   "id": "d63a0ff1",
   "metadata": {},
   "source": [
    "#### 1 - Players"
   ]
  },
  {
   "cell_type": "code",
   "execution_count": 2,
   "id": "bc640f35",
   "metadata": {},
   "outputs": [],
   "source": [
    "N_PLAYERS = 2"
   ]
  },
  {
   "cell_type": "markdown",
   "id": "54f659d8",
   "metadata": {},
   "source": [
    "#### 2 - Actions"
   ]
  },
  {
   "cell_type": "code",
   "execution_count": 3,
   "id": "1a20c841",
   "metadata": {},
   "outputs": [],
   "source": [
    "ROCK = 0\n",
    "PAPER = 1\n",
    "SCISSORS = 2\n",
    "N_ACTIONS = 3"
   ]
  },
  {
   "cell_type": "code",
   "execution_count": 4,
   "id": "7ffaa12e",
   "metadata": {},
   "outputs": [],
   "source": [
    "# Get current mixed strategy through regret-matching\n",
    "def get_action(strategy):\n",
    "    return np.random.choice(np.arange(N_ACTIONS), p=strategy)"
   ]
  },
  {
   "cell_type": "markdown",
   "id": "062eea93",
   "metadata": {},
   "source": [
    "#### 3 - Strategy"
   ]
  },
  {
   "cell_type": "code",
   "execution_count": 5,
   "id": "21055247",
   "metadata": {},
   "outputs": [],
   "source": [
    "regret_sums = np.zeros((N_PLAYERS, N_ACTIONS))\n",
    "strategies = np.ones((N_PLAYERS, N_ACTIONS)) * 1/N_ACTIONS\n",
    "strategy_sums = np.zeros((N_PLAYERS, N_ACTIONS))"
   ]
  },
  {
   "cell_type": "code",
   "execution_count": 6,
   "id": "0aa94924",
   "metadata": {},
   "outputs": [],
   "source": [
    "# Get current mixed strategy through regret-matching \n",
    "def get_strategy(regret_sum, strategy_sum):\n",
    "    # Set strategy to positive regret values\n",
    "    strategy = np.where(regret_sum < 0, 0, regret_sum)\n",
    "    # Normalize the strategy\n",
    "    if sum(strategy) == 0:\n",
    "        strategy = np.ones(N_ACTIONS) * 1/N_ACTIONS\n",
    "    else:\n",
    "        strategy = strategy / sum(strategy)\n",
    "    # Add cummulative strategy\n",
    "    strategy_sum += strategy\n",
    "    return strategy"
   ]
  },
  {
   "cell_type": "markdown",
   "id": "09b8e365",
   "metadata": {},
   "source": [
    "#### 4 - Utilities"
   ]
  },
  {
   "cell_type": "code",
   "execution_count": 7,
   "id": "f0b3ae63",
   "metadata": {},
   "outputs": [],
   "source": [
    "def get_utility(op_action):\n",
    "    utilities = np.zeros(N_ACTIONS)\n",
    "    utilities[0 if (op_action == N_ACTIONS - 1) else (op_action + 1)] = 1\n",
    "    utilities[(N_ACTIONS - 1) if (op_action == 0) else (op_action - 1)] = -1\n",
    "    return utilities"
   ]
  },
  {
   "cell_type": "markdown",
   "id": "668896a2",
   "metadata": {},
   "source": [
    "#### 3 - Train"
   ]
  },
  {
   "cell_type": "code",
   "execution_count": 8,
   "id": "f41f989b",
   "metadata": {},
   "outputs": [],
   "source": [
    "N_ITERS = 1000000"
   ]
  },
  {
   "cell_type": "code",
   "execution_count": 9,
   "id": "f92c8422",
   "metadata": {},
   "outputs": [
    {
     "name": "stdout",
     "output_type": "stream",
     "text": [
      "0.0%\n",
      "10.0%\n",
      "20.0%\n",
      "30.0%\n",
      "40.0%\n",
      "50.0%\n",
      "60.0%\n",
      "70.0%\n",
      "80.0%\n",
      "90.0%\n"
     ]
    }
   ],
   "source": [
    "for i in range(N_ITERS):\n",
    "    if (i % 100000 == 0):\n",
    "        print(f\"{i/10000}%\")\n",
    "    # Get regret-matched mixed-strategy actions\n",
    "    actions = (get_action(get_strategy(regret_sums[0], strategy_sums[0])),\n",
    "               get_action(get_strategy(regret_sums[1], strategy_sums[1])))\n",
    "    # Action utility vectors\n",
    "    utilities = (get_utility(actions[1]), get_utility(actions[0]))\n",
    "    # Accumulate action regrets\n",
    "    regret_sums[0] += utilities[0] - utilities[0][actions[0]]\n",
    "    regret_sums[1] += utilities[1] - utilities[1][actions[1]]"
   ]
  },
  {
   "cell_type": "markdown",
   "id": "2259c22e",
   "metadata": {},
   "source": [
    "#### 4 - Average Strategy"
   ]
  },
  {
   "cell_type": "code",
   "execution_count": 10,
   "id": "8b5aed3e",
   "metadata": {},
   "outputs": [],
   "source": [
    "def average_strategy(strategy_sum):\n",
    "    if sum(strategy_sum) == 0:\n",
    "        return np.ones(N_ACTIONS) * 1/N_ACTIONS\n",
    "    else:\n",
    "        return strategy_sum / sum(strategy_sum)"
   ]
  },
  {
   "cell_type": "code",
   "execution_count": 11,
   "id": "4d9b8feb",
   "metadata": {},
   "outputs": [
    {
     "name": "stdout",
     "output_type": "stream",
     "text": [
      "Player 1: R: 33.3%   P: 33.4%   S: 33.3%\n",
      "Player 2: R: 33.3%   P: 33.6%   S: 33.1%\n"
     ]
    }
   ],
   "source": [
    "avg_strats = (average_strategy(strategy_sums[0]),\n",
    "              average_strategy(strategy_sums[1]))\n",
    "print(f\"Player 1: R: {round(100*avg_strats[0][0], 1)}%   P: {round(100*avg_strats[0][1], 1)}%   S: {round(100*avg_strats[0][2], 1)}%\")\n",
    "print(f\"Player 2: R: {round(100*avg_strats[1][0], 1)}%   P: {round(100*avg_strats[1][1], 1)}%   S: {round(100*avg_strats[1][2], 1)}%\")"
   ]
  },
  {
   "cell_type": "code",
   "execution_count": null,
   "id": "b4d10717",
   "metadata": {},
   "outputs": [],
   "source": []
  }
 ],
 "metadata": {
  "kernelspec": {
   "display_name": "Python 3",
   "language": "python",
   "name": "python3"
  },
  "language_info": {
   "codemirror_mode": {
    "name": "ipython",
    "version": 3
   },
   "file_extension": ".py",
   "mimetype": "text/x-python",
   "name": "python",
   "nbconvert_exporter": "python",
   "pygments_lexer": "ipython3",
   "version": "3.6.12"
  }
 },
 "nbformat": 4,
 "nbformat_minor": 5
}
